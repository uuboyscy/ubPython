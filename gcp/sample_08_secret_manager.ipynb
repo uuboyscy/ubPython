{
 "cells": [
  {
   "cell_type": "code",
   "execution_count": 3,
   "metadata": {},
   "outputs": [],
   "source": [
    "\"\"\"\n",
    "https://cloud.google.com/secret-manager/docs/reference/libraries#client-libraries-install-python\n",
    "\"\"\"\n",
    "import os\n",
    "\n",
    "# Import the Secret Manager client library.\n",
    "from google.cloud import secretmanager\n",
    "from google.oauth2.service_account import Credentials\n",
    "\n",
    "\n",
    "SECRET_MANAGER_CREDENTIALS_FILE_PATH = \"secret-manager-viewer.json\"\n",
    "CREDENTIALS = Credentials.from_service_account_file(SECRET_MANAGER_CREDENTIALS_FILE_PATH)\n",
    "\n",
    "client = secretmanager.SecretManagerServiceClient(credentials=CREDENTIALS)"
   ]
  },
  {
   "cell_type": "code",
   "execution_count": 4,
   "metadata": {},
   "outputs": [
    {
     "name": "stdout",
     "output_type": "stream",
     "text": [
      "test_secret\n"
     ]
    }
   ],
   "source": [
    "project_id = \"30300274673\"\n",
    "secret_id = \"test-secret\"\n",
    "version_id = 2\n",
    "name = f\"projects/{project_id}/secrets/{secret_id}/versions/{version_id}\"\n",
    "\n",
    "response = client.access_secret_version(request={\"name\": name})\n",
    "\n",
    "# Print the secret payload.\n",
    "#\n",
    "# WARNING: Do not print the secret in a production environment - this\n",
    "# snippet is showing how to access the secret material.\n",
    "payload = response.payload.data.decode(\"UTF-8\")\n",
    "print(payload)"
   ]
  },
  {
   "cell_type": "code",
   "execution_count": null,
   "metadata": {},
   "outputs": [],
   "source": []
  }
 ],
 "metadata": {
  "kernelspec": {
   "display_name": "gcp-DC1uwmng",
   "language": "python",
   "name": "python3"
  },
  "language_info": {
   "codemirror_mode": {
    "name": "ipython",
    "version": 3
   },
   "file_extension": ".py",
   "mimetype": "text/x-python",
   "name": "python",
   "nbconvert_exporter": "python",
   "pygments_lexer": "ipython3",
   "version": "3.11.2"
  }
 },
 "nbformat": 4,
 "nbformat_minor": 2
}
