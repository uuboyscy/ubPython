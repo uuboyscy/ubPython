{
 "cells": [
  {
   "cell_type": "code",
   "execution_count": 1,
   "metadata": {},
   "outputs": [],
   "source": [
    "import os\n",
    "\n",
    "from google.cloud import bigquery\n",
    "from google.oauth2.service_account import Credentials"
   ]
  },
  {
   "cell_type": "code",
   "execution_count": 4,
   "metadata": {},
   "outputs": [],
   "source": [
    "BIGQUERY_CREDENTIALS_FILE_PATH = \"bigquery-user.json\"\n",
    "CREDENTIALS = Credentials.from_service_account_file(BIGQUERY_CREDENTIALS_FILE_PATH)\n",
    "\n",
    "BQ_CLIENT = bigquery.Client(\n",
    "    credentials=CREDENTIALS,\n",
    ")"
   ]
  },
  {
   "cell_type": "code",
   "execution_count": 8,
   "metadata": {},
   "outputs": [],
   "source": [
    "def init_products(client: bigquery.Client = BQ_CLIENT) -> None:\n",
    "    query_job = client.query(\n",
    "        \"\"\"\n",
    "        CREATE TABLE IF NOT EXISTS demo.Products (\n",
    "            ProductID INT64\n",
    "            , ProductName STRING\n",
    "            , Category STRING\n",
    "            , Price NUMERIC\n",
    "        )\n",
    "        \"\"\"\n",
    "    )\n",
    "\n",
    "    query_job.result()\n",
    "\n",
    "    print(\"demo.Products created.\")\n",
    "\n",
    "\n",
    "def init_sales(client: bigquery.Client = BQ_CLIENT) -> None:\n",
    "    query_job = client.query(\n",
    "        \"\"\"\n",
    "        CREATE TABLE IF NOT EXISTS demo.Sales (\n",
    "            TransactionID INT64\n",
    "            , ProductID INT64\n",
    "            , Quantity INT64\n",
    "            , TransactionDate DATE\n",
    "        )\n",
    "        \"\"\"\n",
    "    )\n",
    "\n",
    "    query_job.result()\n",
    "\n",
    "    print(\"demo.Sales created.\")\n",
    "\n",
    "def etl_products_src_to_bq(client: bigquery.Client = BQ_CLIENT) -> None:\n",
    "    query_job = client.query(\n",
    "        \"\"\"\n",
    "        INSERT INTO demo.Products (ProductID, ProductName, Category, Price) VALUES\n",
    "        (1, 'Laptop', 'Electronics', 1200)\n",
    "        , (2, 'Headphones', 'Electronics', 150)\n",
    "        , (3, 'Coffee Mug', 'Kitchenware', 20)\n",
    "        \"\"\"\n",
    "    )\n",
    "\n",
    "    query_job.result()\n",
    "\n",
    "    print(\"demo.Products updated.\")\n",
    "\n",
    "def etl_sales_src_to_bq(client: bigquery.Client = BQ_CLIENT) -> None:\n",
    "    query_job = client.query(\n",
    "        \"\"\"\n",
    "        INSERT INTO demo.Sales (TransactionID, ProductID, Quantity, TransactionDate) VALUES\n",
    "        (101, 1, 1, '2024-05-01')\n",
    "        , (102, 2, 2, '2024-05-02')\n",
    "        , (103, 3, 4, '2024-05-03')\n",
    "        \"\"\"\n",
    "    )\n",
    "\n",
    "    query_job.result()\n",
    "\n",
    "    print(\"demo.Sales updated.\")\n",
    "\n",
    "def update_sales_detail(client: bigquery.Client = BQ_CLIENT) -> None:\n",
    "    query_job = client.query(\n",
    "        \"\"\"\n",
    "        CREATE OR REPLACE TABLE demo.SalesDetail AS (\n",
    "            SELECT\n",
    "                s.TransactionID,\n",
    "                s.ProductID,\n",
    "                p.ProductName,\n",
    "                p.Category,\n",
    "                p.Price,\n",
    "                s.Quantity,\n",
    "                s.TransactionDate\n",
    "            FROM\n",
    "                demo.Sales s\n",
    "            JOIN\n",
    "                demo.Products p ON s.ProductID = p.ProductID\n",
    "        )\n",
    "        \"\"\"\n",
    "    )\n",
    "\n",
    "    query_job.result()\n",
    "\n",
    "    print(\"demo.SalesDetail updated.\")\n"
   ]
  },
  {
   "cell_type": "code",
   "execution_count": 9,
   "metadata": {},
   "outputs": [
    {
     "name": "stdout",
     "output_type": "stream",
     "text": [
      "demo.Products created.\n",
      "demo.Sales created.\n",
      "demo.Products updated.\n",
      "demo.Sales updated.\n",
      "demo.SalesDetail updated.\n"
     ]
    }
   ],
   "source": [
    "if __name__ == \"__main__\":\n",
    "    init = True\n",
    "\n",
    "    if init:\n",
    "        init_products()\n",
    "        init_sales()\n",
    "\n",
    "    etl_products_src_to_bq()\n",
    "    etl_sales_src_to_bq()\n",
    "    update_sales_detail()"
   ]
  },
  {
   "cell_type": "code",
   "execution_count": null,
   "metadata": {},
   "outputs": [],
   "source": []
  }
 ],
 "metadata": {
  "kernelspec": {
   "display_name": "gcp-DC1uwmng",
   "language": "python",
   "name": "python3"
  },
  "language_info": {
   "codemirror_mode": {
    "name": "ipython",
    "version": 3
   },
   "file_extension": ".py",
   "mimetype": "text/x-python",
   "name": "python",
   "nbconvert_exporter": "python",
   "pygments_lexer": "ipython3",
   "version": "3.11.2"
  }
 },
 "nbformat": 4,
 "nbformat_minor": 2
}
